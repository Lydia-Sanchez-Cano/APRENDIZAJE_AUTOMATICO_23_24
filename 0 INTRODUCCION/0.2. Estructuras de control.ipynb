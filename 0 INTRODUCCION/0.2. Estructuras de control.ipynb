{
  "cells": [
    {
      "cell_type": "markdown",
      "metadata": {
        "id": "view-in-github",
        "colab_type": "text"
      },
      "source": [
        "<a href=\"https://colab.research.google.com/github/Lydia-Sanchez-Cano/APRENDIZAJE_AUTOMATICO_23_24/blob/main/0%20INTRODUCCION/0.2.%20Estructuras%20de%20control.ipynb\" target=\"_parent\"><img src=\"https://colab.research.google.com/assets/colab-badge.svg\" alt=\"Open In Colab\"/></a>"
      ]
    },
    {
      "cell_type": "code",
      "execution_count": 2,
      "metadata": {
        "pycharm": {
          "name": "#%%\n"
        },
        "id": "ernuRavfc8K-",
        "outputId": "d778b500-5eed-4164-f020-8e7bd3db6aaa",
        "colab": {
          "base_uri": "https://localhost:8080/"
        }
      },
      "outputs": [
        {
          "output_type": "stream",
          "name": "stdout",
          "text": [
            "x es menor\n"
          ]
        }
      ],
      "source": [
        "x=2\n",
        "y=4\n",
        "if x<y:\n",
        "    print (\"x es menor\")"
      ]
    },
    {
      "cell_type": "code",
      "execution_count": 1,
      "metadata": {
        "pycharm": {
          "name": "#%%\n"
        },
        "id": "lfkx5-6Kc8K_",
        "outputId": "f86e23fb-45b0-42fd-d037-1c0c581c50b1",
        "colab": {
          "base_uri": "https://localhost:8080/"
        }
      },
      "outputs": [
        {
          "output_type": "stream",
          "name": "stdout",
          "text": [
            "x es mayor\n"
          ]
        }
      ],
      "source": [
        "x=4\n",
        "y=2\n",
        "if x<y:\n",
        "    print (\"x es menor\")\n",
        "elif x>y:\n",
        "    print (\"x es mayor\")"
      ]
    },
    {
      "cell_type": "code",
      "execution_count": 3,
      "metadata": {
        "pycharm": {
          "name": "#%%\n"
        },
        "id": "rG42yjWgc8K_",
        "outputId": "425d7fb3-5906-4c93-f024-6e2ec9b2fd10",
        "colab": {
          "base_uri": "https://localhost:8080/"
        }
      },
      "outputs": [
        {
          "output_type": "stream",
          "name": "stdout",
          "text": [
            "son iguales\n"
          ]
        }
      ],
      "source": [
        "x=2\n",
        "y=2\n",
        "if x<y:\n",
        "    print (\"x es menor\")\n",
        "elif x>y:\n",
        "    print (\"x es mayor\")\n",
        "else:\n",
        "    print (\"son iguales\")"
      ]
    },
    {
      "cell_type": "code",
      "execution_count": 4,
      "metadata": {
        "pycharm": {
          "name": "#%%\n"
        },
        "id": "JYejh9kJc8K_"
      },
      "outputs": [],
      "source": [
        "def comparador(x,y):\n",
        "    if x<y:\n",
        "        print (\"x es menor\")\n",
        "    elif x>y:\n",
        "        print (\"x es mayor\")\n",
        "    else:\n",
        "        print (\"son iguales\")"
      ]
    },
    {
      "cell_type": "code",
      "execution_count": 5,
      "metadata": {
        "pycharm": {
          "name": "#%%\n"
        },
        "id": "web7vFGPc8K_",
        "outputId": "f7d03aae-8445-43dc-c77d-e99ac4ce0c3c",
        "colab": {
          "base_uri": "https://localhost:8080/"
        }
      },
      "outputs": [
        {
          "output_type": "stream",
          "name": "stdout",
          "text": [
            "x es menor\n"
          ]
        }
      ],
      "source": [
        "comparador(2,4)"
      ]
    },
    {
      "cell_type": "code",
      "execution_count": 6,
      "metadata": {
        "pycharm": {
          "name": "#%%\n"
        },
        "id": "puA-G13tc8LA",
        "outputId": "f73f77da-e839-4b63-b4eb-beb1757e2b57",
        "colab": {
          "base_uri": "https://localhost:8080/"
        }
      },
      "outputs": [
        {
          "output_type": "stream",
          "name": "stdout",
          "text": [
            "x es mayor\n"
          ]
        }
      ],
      "source": [
        "comparador(3.4,1.2)"
      ]
    },
    {
      "cell_type": "code",
      "execution_count": 7,
      "metadata": {
        "pycharm": {
          "name": "#%%\n"
        },
        "id": "piVDflM8c8LA",
        "outputId": "0aa1aa8d-8513-4520-838b-582ae78d165d",
        "colab": {
          "base_uri": "https://localhost:8080/"
        }
      },
      "outputs": [
        {
          "output_type": "stream",
          "name": "stdout",
          "text": [
            "0\n",
            "1\n",
            "2\n",
            "3\n",
            "4\n",
            "5\n",
            "6\n",
            "7\n",
            "8\n",
            "9\n"
          ]
        }
      ],
      "source": [
        "#Reseñar la posibilidad de bucle infinito\n",
        "i=0\n",
        "while i<10:\n",
        "    print (i)\n",
        "    i+=1"
      ]
    },
    {
      "cell_type": "code",
      "execution_count": 8,
      "metadata": {
        "pycharm": {
          "name": "#%%\n"
        },
        "id": "EWrW3hV2c8LA",
        "outputId": "6b8a9b46-ccaa-4ae8-da02-f3a30d213755",
        "colab": {
          "base_uri": "https://localhost:8080/"
        }
      },
      "outputs": [
        {
          "output_type": "stream",
          "name": "stdout",
          "text": [
            "0\n",
            "1\n",
            "2\n",
            "3\n",
            "4\n",
            "5\n",
            "6\n",
            "7\n",
            "8\n",
            "9\n"
          ]
        }
      ],
      "source": [
        "for i in range(0,10):\n",
        "    print (i)"
      ]
    },
    {
      "cell_type": "code",
      "execution_count": 9,
      "metadata": {
        "pycharm": {
          "name": "#%%\n"
        },
        "id": "GkU5qAp6c8LA",
        "outputId": "3843058e-4d39-4eab-daf0-7f63db2cd45e",
        "colab": {
          "base_uri": "https://localhost:8080/"
        }
      },
      "outputs": [
        {
          "output_type": "stream",
          "name": "stdout",
          "text": [
            "i\n",
            "P\n",
            "y\n",
            "t\n",
            "h\n",
            "o\n",
            "n\n"
          ]
        }
      ],
      "source": [
        "for i in \"iPython\":\n",
        "    print (i)"
      ]
    },
    {
      "cell_type": "code",
      "execution_count": 10,
      "metadata": {
        "pycharm": {
          "name": "#%%\n"
        },
        "id": "mx7hAypdc8LA",
        "outputId": "8332fd6a-1dee-4b90-c1c0-1e68cd93d818",
        "colab": {
          "base_uri": "https://localhost:8080/"
        }
      },
      "outputs": [
        {
          "output_type": "stream",
          "name": "stdout",
          "text": [
            "Curso\n",
            "de\n",
            "iPtyhon\n"
          ]
        }
      ],
      "source": [
        "for i in \"Curso\",\"de\",\"iPtyhon\":\n",
        "    print (i)"
      ]
    },
    {
      "cell_type": "code",
      "execution_count": 11,
      "metadata": {
        "pycharm": {
          "name": "#%%\n"
        },
        "id": "vdYTOZJrc8LA",
        "outputId": "93a9c6e9-cbe6-44ce-c800-c7ee95072f1b",
        "colab": {
          "base_uri": "https://localhost:8080/"
        }
      },
      "outputs": [
        {
          "output_type": "stream",
          "name": "stdout",
          "text": [
            "0\n",
            "1\n",
            "2\n",
            "3\n",
            "4\n"
          ]
        }
      ],
      "source": [
        "for i in range(0,10):\n",
        "    print (i)\n",
        "    if i==4:\n",
        "        break"
      ]
    },
    {
      "cell_type": "code",
      "execution_count": 12,
      "metadata": {
        "pycharm": {
          "name": "#%%\n"
        },
        "id": "JP9mR6-sc8LA",
        "outputId": "f2f194f5-26d5-4e3c-e013-a85872afb5e9",
        "colab": {
          "base_uri": "https://localhost:8080/"
        }
      },
      "outputs": [
        {
          "output_type": "stream",
          "name": "stdout",
          "text": [
            "1 es impar\n",
            "2 es par\n",
            "3 es impar\n",
            "4 es par\n",
            "5 es impar\n",
            "6 es par\n",
            "7 es impar\n",
            "8 es par\n",
            "9 es impar\n",
            "10 es par\n"
          ]
        }
      ],
      "source": [
        "i=1\n",
        "while i<=10:\n",
        "    if i%2==0:\n",
        "        print (str(i)+\" es par\")\n",
        "    else:\n",
        "        print (str(i)+\" es impar\")\n",
        "    i+=1"
      ]
    },
    {
      "cell_type": "markdown",
      "source": [
        "## PROBLEMAS"
      ],
      "metadata": {
        "id": "oqAIQOQSdITs"
      }
    },
    {
      "cell_type": "markdown",
      "source": [
        "1. Escribe una función **invertir_lista** que tome una lista como argumento y devuelva una nueva lista que contiene los elementos de la lista original en orden inverso. No se permite utilizar la función incorporada **reverse()** o la notación de slice **[::-1]**"
      ],
      "metadata": {
        "id": "zO5dbzdidXsD"
      }
    },
    {
      "cell_type": "code",
      "source": [
        "def invertir_lista(lista):\n",
        "  # PROGRAMAR AQUÍ EL CÓDIGO DE LA FUNCIÓN\n",
        "  lista1=[]\n",
        "  for i in range(len(lista)):\n",
        "    x=lista.pop(-1)\n",
        "    lista1.append(x)\n",
        "  return lista1\n",
        "# Pruebas\n",
        "assert invertir_lista([1, 2, 3]) == [3, 2, 1]\n",
        "assert invertir_lista([\"a\", \"b\", \"c\"]) == [\"c\", \"b\", \"a\"]\n",
        "assert invertir_lista([]) == []\n",
        "assert invertir_lista([1]) == [1]"
      ],
      "metadata": {
        "id": "RLk0hOVfdgXQ"
      },
      "execution_count": 13,
      "outputs": []
    },
    {
      "cell_type": "markdown",
      "source": [
        "2. Escribe una función **contar_ocurrencias** que tome una lista y un elemento como argumentos. La función debe devolver el número de veces que aparece el elemento en la lista."
      ],
      "metadata": {
        "id": "5Ni2M3Bbd5MH"
      }
    },
    {
      "cell_type": "code",
      "source": [
        "def contar_ocurrencias(lista, elemento):\n",
        "  # PROGRAMAR AQUÍ EL CÓDIGO DE LA FUNCIÓN\n",
        "  cont=0\n",
        "  for i in range(len(lista)):\n",
        "    if elemento==lista[i]:\n",
        "      cont=cont+1\n",
        "    else:\n",
        "      cont=cont\n",
        "  return cont\n",
        "# Pruebas\n",
        "assert contar_ocurrencias([1, 2, 3, 4, 1, 2, 1], 1) == 3\n",
        "assert contar_ocurrencias([\"a\", \"b\", \"a\"], \"a\") == 2\n",
        "assert contar_ocurrencias([], \"a\") == 0\n",
        "assert contar_ocurrencias([1, 2, 3], 4) == 0"
      ],
      "metadata": {
        "id": "BYKPPL92eCT6"
      },
      "execution_count": 14,
      "outputs": []
    },
    {
      "cell_type": "markdown",
      "source": [
        "3. Escribe una función **es_palindromo** que tome una cadena como argumento y devuelva **True** si la cadena es un palíndromo (se lee igual de izquierda a derecha que de derecha a izquierda) o **False** si no lo es. Ignora las diferencias entre mayúsculas y minúsculas"
      ],
      "metadata": {
        "id": "N2dIncYAeYkb"
      }
    },
    {
      "cell_type": "code",
      "source": [
        "def es_palindromo(cadena):\n",
        "  # PROGRAMAR AQUÍ EL CÓDIGO DE LA FUNCIÓN\n",
        "    cadena = cadena.lower().replace(\" \", \"\")\n",
        "    return cadena == cadena[::-1]\n",
        "# Pruebas\n",
        "assert es_palindromo(\"Anilina\") == True\n",
        "assert es_palindromo(\"Radar\") == True\n",
        "assert es_palindromo(\"Python\") == False\n",
        "assert es_palindromo(\"a\") == True"
      ],
      "metadata": {
        "id": "Tlv5CnzKek2s"
      },
      "execution_count": 20,
      "outputs": []
    }
  ],
  "metadata": {
    "kernelspec": {
      "display_name": "Python 3",
      "language": "python",
      "name": "python3"
    },
    "language_info": {
      "codemirror_mode": {
        "name": "ipython",
        "version": 3
      },
      "file_extension": ".py",
      "mimetype": "text/x-python",
      "name": "python",
      "nbconvert_exporter": "python",
      "pygments_lexer": "ipython3",
      "version": "3.6.5"
    },
    "colab": {
      "provenance": [],
      "include_colab_link": true
    }
  },
  "nbformat": 4,
  "nbformat_minor": 0
}