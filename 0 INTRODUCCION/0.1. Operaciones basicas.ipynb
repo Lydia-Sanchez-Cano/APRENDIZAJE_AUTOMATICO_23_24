{
  "cells": [
    {
      "cell_type": "markdown",
      "metadata": {
        "id": "view-in-github",
        "colab_type": "text"
      },
      "source": [
        "<a href=\"https://colab.research.google.com/github/Lydia-Sanchez-Cano/APRENDIZAJE_AUTOMATICO_23_24/blob/main/0%20INTRODUCCION/0.1.%20Operaciones%20basicas.ipynb\" target=\"_parent\"><img src=\"https://colab.research.google.com/assets/colab-badge.svg\" alt=\"Open In Colab\"/></a>"
      ]
    },
    {
      "cell_type": "markdown",
      "metadata": {
        "pycharm": {
          "name": "#%% md\n"
        },
        "id": "RYnPba-KPqZC"
      },
      "source": [
        "# Titulo"
      ]
    },
    {
      "cell_type": "markdown",
      "metadata": {
        "pycharm": {
          "name": "#%% md\n"
        },
        "id": "LBw8jC75PqZD"
      },
      "source": [
        "## subtitulo"
      ]
    },
    {
      "cell_type": "markdown",
      "metadata": {
        "pycharm": {
          "name": "#%% md\n"
        },
        "id": "aHnLwZuuPqZD"
      },
      "source": [
        "Texto normal"
      ]
    },
    {
      "cell_type": "markdown",
      "metadata": {
        "pycharm": {
          "name": "#%% md\n"
        },
        "id": "B_HSvwuqPqZD"
      },
      "source": [
        "<b>negrita</b>"
      ]
    },
    {
      "cell_type": "markdown",
      "metadata": {
        "pycharm": {
          "name": "#%% md\n"
        },
        "id": "7B9X3SPxPqZD"
      },
      "source": [
        "<big><big>grande</big></big> normal"
      ]
    },
    {
      "cell_type": "code",
      "source": [
        "from google.colab import drive\n",
        "drive.mount('/content/drive')"
      ],
      "metadata": {
        "id": "3D8jQhz0U-zs",
        "outputId": "ca467585-c8bf-4c84-90b4-f699677f555e",
        "colab": {
          "base_uri": "https://localhost:8080/"
        }
      },
      "execution_count": 2,
      "outputs": [
        {
          "output_type": "stream",
          "name": "stdout",
          "text": [
            "Mounted at /content/drive\n"
          ]
        }
      ]
    },
    {
      "cell_type": "markdown",
      "metadata": {
        "pycharm": {
          "name": "#%% md\n"
        },
        "id": "SHa2iajrPqZD"
      },
      "source": [
        "<i>cursiva</i>"
      ]
    },
    {
      "cell_type": "markdown",
      "metadata": {
        "pycharm": {
          "name": "#%% md\n"
        },
        "id": "Anz7YLU_PqZD"
      },
      "source": [
        "<u>subrayado</u>"
      ]
    },
    {
      "cell_type": "markdown",
      "metadata": {
        "pycharm": {
          "name": "#%% md\n"
        },
        "id": "ot0xK0XgPqZD"
      },
      "source": [
        "<font color='red'>rojo</font>"
      ]
    },
    {
      "cell_type": "markdown",
      "metadata": {
        "pycharm": {
          "name": "#%% md\n"
        },
        "id": "5j9cTCK8PqZD"
      },
      "source": [
        "<a href='http://www.ceiec.es/'>CEIEC</a>"
      ]
    },
    {
      "cell_type": "markdown",
      "metadata": {
        "pycharm": {
          "name": "#%% md\n"
        },
        "id": "dUcHK22hPqZD"
      },
      "source": [
        "<img src = \"http://www.ceiec.es/wp-content/uploads/2018/07/Logo_CEIEC_Apaisado_RGB.jpg\">"
      ]
    },
    {
      "cell_type": "code",
      "execution_count": 3,
      "metadata": {
        "pycharm": {
          "name": "#%%\n"
        },
        "id": "GlDcGiFGPqZD"
      },
      "outputs": [],
      "source": [
        "#Comentario una linea."
      ]
    },
    {
      "cell_type": "code",
      "execution_count": 4,
      "metadata": {
        "pycharm": {
          "name": "#%%\n"
        },
        "id": "WZZ579lPPqZE",
        "outputId": "de2882fd-c3ba-4225-9ab2-5567f0dd8904",
        "colab": {
          "base_uri": "https://localhost:8080/"
        }
      },
      "outputs": [
        {
          "output_type": "execute_result",
          "data": {
            "text/plain": [
              "2"
            ]
          },
          "metadata": {},
          "execution_count": 4
        }
      ],
      "source": [
        "2"
      ]
    },
    {
      "cell_type": "code",
      "execution_count": 5,
      "metadata": {
        "pycharm": {
          "name": "#%%\n"
        },
        "id": "mErmKawYPqZE",
        "outputId": "c2466049-c46b-4931-cc1f-edd916f988d6",
        "colab": {
          "base_uri": "https://localhost:8080/"
        }
      },
      "outputs": [
        {
          "output_type": "execute_result",
          "data": {
            "text/plain": [
              "5"
            ]
          },
          "metadata": {},
          "execution_count": 5
        }
      ],
      "source": [
        "2+3"
      ]
    },
    {
      "cell_type": "code",
      "execution_count": 6,
      "metadata": {
        "pycharm": {
          "name": "#%%\n"
        },
        "id": "5VdT3No5PqZE"
      },
      "outputs": [],
      "source": [
        "x=2\n",
        "y=3"
      ]
    },
    {
      "cell_type": "code",
      "execution_count": 7,
      "metadata": {
        "pycharm": {
          "name": "#%%\n"
        },
        "id": "I71OEE_PPqZE",
        "outputId": "243d879d-a834-4fa4-ea03-ebcb9c4b0627",
        "colab": {
          "base_uri": "https://localhost:8080/"
        }
      },
      "outputs": [
        {
          "output_type": "execute_result",
          "data": {
            "text/plain": [
              "5"
            ]
          },
          "metadata": {},
          "execution_count": 7
        }
      ],
      "source": [
        "x+y"
      ]
    },
    {
      "cell_type": "code",
      "execution_count": 8,
      "metadata": {
        "pycharm": {
          "name": "#%%\n"
        },
        "id": "jRgcjhnvPqZE"
      },
      "outputs": [],
      "source": [
        "z=x+y"
      ]
    },
    {
      "cell_type": "code",
      "execution_count": 9,
      "metadata": {
        "pycharm": {
          "name": "#%%\n"
        },
        "id": "gsTu8eCJPqZE",
        "outputId": "63ff1c6a-7af7-4d3a-8bc5-53f565ff9d4f",
        "colab": {
          "base_uri": "https://localhost:8080/"
        }
      },
      "outputs": [
        {
          "output_type": "execute_result",
          "data": {
            "text/plain": [
              "5"
            ]
          },
          "metadata": {},
          "execution_count": 9
        }
      ],
      "source": [
        "z"
      ]
    },
    {
      "cell_type": "code",
      "execution_count": 10,
      "metadata": {
        "pycharm": {
          "name": "#%%\n"
        },
        "id": "MkdEj9IhPqZE",
        "outputId": "74d95703-e0e0-4837-fab4-29d9d4dc3d51",
        "colab": {
          "base_uri": "https://localhost:8080/"
        }
      },
      "outputs": [
        {
          "output_type": "execute_result",
          "data": {
            "text/plain": [
              "5.5"
            ]
          },
          "metadata": {},
          "execution_count": 10
        }
      ],
      "source": [
        "x=2.3\n",
        "y=3.2\n",
        "x+y"
      ]
    },
    {
      "cell_type": "code",
      "execution_count": 11,
      "metadata": {
        "pycharm": {
          "name": "#%%\n"
        },
        "id": "CQ5S4hr5PqZE",
        "outputId": "6e2a1176-e494-4331-9f0c-9015ca5f2dd1",
        "colab": {
          "base_uri": "https://localhost:8080/"
        }
      },
      "outputs": [
        {
          "output_type": "execute_result",
          "data": {
            "text/plain": [
              "3"
            ]
          },
          "metadata": {},
          "execution_count": 11
        }
      ],
      "source": [
        "x=5\n",
        "y=2\n",
        "\n",
        "x-y"
      ]
    },
    {
      "cell_type": "code",
      "execution_count": 12,
      "metadata": {
        "pycharm": {
          "name": "#%%\n"
        },
        "id": "ekhzb2fGPqZE",
        "outputId": "7cf69848-1abe-4c7c-85c8-c8abd3ff863e",
        "colab": {
          "base_uri": "https://localhost:8080/"
        }
      },
      "outputs": [
        {
          "output_type": "execute_result",
          "data": {
            "text/plain": [
              "10"
            ]
          },
          "metadata": {},
          "execution_count": 12
        }
      ],
      "source": [
        "x*y"
      ]
    },
    {
      "cell_type": "code",
      "execution_count": 13,
      "metadata": {
        "pycharm": {
          "name": "#%%\n"
        },
        "id": "z0EI7xHPPqZE",
        "outputId": "a626c4d6-f5c0-41d7-dfd6-f5786e89ded6",
        "colab": {
          "base_uri": "https://localhost:8080/"
        }
      },
      "outputs": [
        {
          "output_type": "execute_result",
          "data": {
            "text/plain": [
              "2.5"
            ]
          },
          "metadata": {},
          "execution_count": 13
        }
      ],
      "source": [
        "x/y"
      ]
    },
    {
      "cell_type": "code",
      "execution_count": 14,
      "metadata": {
        "pycharm": {
          "name": "#%%\n"
        },
        "id": "vnktfMzpPqZE",
        "outputId": "8a946e8c-8384-4446-c7d8-566df448f98a",
        "colab": {
          "base_uri": "https://localhost:8080/"
        }
      },
      "outputs": [
        {
          "output_type": "execute_result",
          "data": {
            "text/plain": [
              "2.5"
            ]
          },
          "metadata": {},
          "execution_count": 14
        }
      ],
      "source": [
        "x=5.0\n",
        "y=2.0\n",
        "x/y"
      ]
    },
    {
      "cell_type": "code",
      "execution_count": 15,
      "metadata": {
        "pycharm": {
          "name": "#%%\n"
        },
        "id": "cruL063ZPqZF",
        "outputId": "2a798350-2eed-4094-a2f5-66a878dd9785",
        "colab": {
          "base_uri": "https://localhost:8080/"
        }
      },
      "outputs": [
        {
          "output_type": "execute_result",
          "data": {
            "text/plain": [
              "2.0"
            ]
          },
          "metadata": {},
          "execution_count": 15
        }
      ],
      "source": [
        "x//y"
      ]
    },
    {
      "cell_type": "code",
      "execution_count": 16,
      "metadata": {
        "pycharm": {
          "name": "#%%\n"
        },
        "id": "4sdP1NOLPqZF",
        "outputId": "5f104d5a-88b4-4087-ce8c-6d3b54b1e532",
        "colab": {
          "base_uri": "https://localhost:8080/"
        }
      },
      "outputs": [
        {
          "output_type": "execute_result",
          "data": {
            "text/plain": [
              "1.0"
            ]
          },
          "metadata": {},
          "execution_count": 16
        }
      ],
      "source": [
        "x%y"
      ]
    },
    {
      "cell_type": "code",
      "execution_count": 17,
      "metadata": {
        "pycharm": {
          "name": "#%%\n"
        },
        "id": "0HvDogyrPqZF",
        "outputId": "fa291648-0926-4e71-9cb4-ca1cabccdb10",
        "colab": {
          "base_uri": "https://localhost:8080/"
        }
      },
      "outputs": [
        {
          "output_type": "execute_result",
          "data": {
            "text/plain": [
              "4"
            ]
          },
          "metadata": {},
          "execution_count": 17
        }
      ],
      "source": [
        "x=2\n",
        "x**2"
      ]
    },
    {
      "cell_type": "code",
      "execution_count": 18,
      "metadata": {
        "pycharm": {
          "name": "#%%\n"
        },
        "id": "QCRbn1fxPqZF",
        "outputId": "3dbd3a1e-4fdd-4f6c-ee84-04b39df24fde",
        "colab": {
          "base_uri": "https://localhost:8080/"
        }
      },
      "outputs": [
        {
          "output_type": "execute_result",
          "data": {
            "text/plain": [
              "2.5"
            ]
          },
          "metadata": {},
          "execution_count": 18
        }
      ],
      "source": [
        "((2.0+3)/4)*2"
      ]
    },
    {
      "cell_type": "code",
      "execution_count": 19,
      "metadata": {
        "pycharm": {
          "name": "#%%\n"
        },
        "id": "nj1WBHnWPqZF",
        "outputId": "8f0274af-7ea4-4bc6-e33e-6b75a22dda49",
        "colab": {
          "base_uri": "https://localhost:8080/"
        }
      },
      "outputs": [
        {
          "output_type": "stream",
          "name": "stdout",
          "text": [
            "Sacar por pantalla\n"
          ]
        }
      ],
      "source": [
        "print (\"Sacar por pantalla\")"
      ]
    },
    {
      "cell_type": "code",
      "execution_count": 20,
      "metadata": {
        "pycharm": {
          "name": "#%%\n"
        },
        "id": "joJZzG_IPqZF",
        "outputId": "c0e60583-a9c3-41b2-d60d-153efe6733d5",
        "colab": {
          "base_uri": "https://localhost:8080/"
        }
      },
      "outputs": [
        {
          "output_type": "stream",
          "name": "stdout",
          "text": [
            "El resultado es 2\n"
          ]
        }
      ],
      "source": [
        "print (\"El resultado es \"+str(x))"
      ]
    },
    {
      "cell_type": "code",
      "execution_count": 21,
      "metadata": {
        "pycharm": {
          "name": "#%%\n"
        },
        "id": "O3TH3e5PPqZF",
        "outputId": "8ad0cb61-effc-423c-f5bb-cbfa15a2f915",
        "colab": {
          "base_uri": "https://localhost:8080/"
        }
      },
      "outputs": [
        {
          "output_type": "execute_result",
          "data": {
            "text/plain": [
              "5"
            ]
          },
          "metadata": {},
          "execution_count": 21
        }
      ],
      "source": [
        "x = 2\n",
        "y = 3\n",
        "x + y"
      ]
    },
    {
      "cell_type": "code",
      "execution_count": 22,
      "metadata": {
        "pycharm": {
          "name": "#%%\n"
        },
        "id": "2b0q6bAtPqZF",
        "outputId": "c74f5d2e-c843-4d34-da17-67d7cad100d1",
        "colab": {
          "base_uri": "https://localhost:8080/"
        }
      },
      "outputs": [
        {
          "output_type": "execute_result",
          "data": {
            "text/plain": [
              "True"
            ]
          },
          "metadata": {},
          "execution_count": 22
        }
      ],
      "source": [
        "x=True\n",
        "x"
      ]
    },
    {
      "cell_type": "code",
      "execution_count": 23,
      "metadata": {
        "pycharm": {
          "name": "#%%\n"
        },
        "id": "Ub31ucKqPqZF",
        "outputId": "276e0121-e159-4119-dc02-7011d6e02dfc",
        "colab": {
          "base_uri": "https://localhost:8080/"
        }
      },
      "outputs": [
        {
          "output_type": "execute_result",
          "data": {
            "text/plain": [
              "False"
            ]
          },
          "metadata": {},
          "execution_count": 23
        }
      ],
      "source": [
        "y=False\n",
        "y"
      ]
    },
    {
      "cell_type": "code",
      "execution_count": 24,
      "metadata": {
        "pycharm": {
          "name": "#%%\n"
        },
        "id": "4Mxfz6P8PqZF",
        "outputId": "4d259e1a-a849-46db-dde1-14c6e63ad73d",
        "colab": {
          "base_uri": "https://localhost:8080/"
        }
      },
      "outputs": [
        {
          "output_type": "execute_result",
          "data": {
            "text/plain": [
              "False"
            ]
          },
          "metadata": {},
          "execution_count": 24
        }
      ],
      "source": [
        "x==y"
      ]
    },
    {
      "cell_type": "code",
      "execution_count": 25,
      "metadata": {
        "pycharm": {
          "name": "#%%\n"
        },
        "id": "fgwuPA-4PqZF",
        "outputId": "d7b23dcc-dd24-400b-9f25-7d2a199451e6",
        "colab": {
          "base_uri": "https://localhost:8080/"
        }
      },
      "outputs": [
        {
          "output_type": "execute_result",
          "data": {
            "text/plain": [
              "False"
            ]
          },
          "metadata": {},
          "execution_count": 25
        }
      ],
      "source": [
        "x=2\n",
        "y=3\n",
        "x==y"
      ]
    },
    {
      "cell_type": "code",
      "execution_count": 26,
      "metadata": {
        "pycharm": {
          "name": "#%%\n"
        },
        "id": "FFWjDthbPqZF",
        "outputId": "3d09725e-caa5-4566-a741-e76294b4df14",
        "colab": {
          "base_uri": "https://localhost:8080/"
        }
      },
      "outputs": [
        {
          "output_type": "execute_result",
          "data": {
            "text/plain": [
              "True"
            ]
          },
          "metadata": {},
          "execution_count": 26
        }
      ],
      "source": [
        "x!=y"
      ]
    },
    {
      "cell_type": "code",
      "execution_count": 27,
      "metadata": {
        "pycharm": {
          "name": "#%%\n"
        },
        "id": "Vr8KIM_vPqZF",
        "outputId": "1b702b5d-746e-450f-98c1-06c0c1654858",
        "colab": {
          "base_uri": "https://localhost:8080/"
        }
      },
      "outputs": [
        {
          "output_type": "execute_result",
          "data": {
            "text/plain": [
              "True"
            ]
          },
          "metadata": {},
          "execution_count": 27
        }
      ],
      "source": [
        "x<y"
      ]
    },
    {
      "cell_type": "code",
      "execution_count": 28,
      "metadata": {
        "pycharm": {
          "name": "#%%\n"
        },
        "id": "8BThbGHvPqZF",
        "outputId": "c39ad96e-8382-4ead-ec15-b4fd24ee6c36",
        "colab": {
          "base_uri": "https://localhost:8080/"
        }
      },
      "outputs": [
        {
          "output_type": "execute_result",
          "data": {
            "text/plain": [
              "False"
            ]
          },
          "metadata": {},
          "execution_count": 28
        }
      ],
      "source": [
        "x>y"
      ]
    },
    {
      "cell_type": "code",
      "execution_count": 29,
      "metadata": {
        "pycharm": {
          "name": "#%%\n"
        },
        "id": "2YNgooyyPqZF",
        "outputId": "42adcbef-ee74-4d00-e50d-b994eee67b77",
        "colab": {
          "base_uri": "https://localhost:8080/"
        }
      },
      "outputs": [
        {
          "output_type": "execute_result",
          "data": {
            "text/plain": [
              "True"
            ]
          },
          "metadata": {},
          "execution_count": 29
        }
      ],
      "source": [
        "x<=y"
      ]
    },
    {
      "cell_type": "code",
      "execution_count": 30,
      "metadata": {
        "pycharm": {
          "name": "#%%\n"
        },
        "id": "R96oKBICPqZF",
        "outputId": "eb929822-23c6-4f63-f8a6-9a6b873229e9",
        "colab": {
          "base_uri": "https://localhost:8080/"
        }
      },
      "outputs": [
        {
          "output_type": "execute_result",
          "data": {
            "text/plain": [
              "False"
            ]
          },
          "metadata": {},
          "execution_count": 30
        }
      ],
      "source": [
        "x>=y"
      ]
    },
    {
      "cell_type": "code",
      "execution_count": 31,
      "metadata": {
        "pycharm": {
          "name": "#%%\n"
        },
        "id": "a1rbHBkePqZF",
        "outputId": "81071a9c-6c31-40ad-f852-4faf419e7ccb",
        "colab": {
          "base_uri": "https://localhost:8080/"
        }
      },
      "outputs": [
        {
          "output_type": "stream",
          "name": "stdout",
          "text": [
            "<class 'int'>\n",
            "<class 'float'>\n",
            "<class 'str'>\n",
            "<class 'bool'>\n"
          ]
        }
      ],
      "source": [
        "x = 2\n",
        "y = 3.4\n",
        "z = 'Hola'\n",
        "w = True\n",
        "\n",
        "print (type(x))\n",
        "print (type(y))\n",
        "print (type(z))\n",
        "print (type(w))\n"
      ]
    },
    {
      "cell_type": "code",
      "execution_count": 32,
      "metadata": {
        "pycharm": {
          "name": "#%%\n"
        },
        "id": "oMJyxvKHPqZG"
      },
      "outputs": [],
      "source": [
        "def suma(x,y):\n",
        "    return x+y"
      ]
    },
    {
      "cell_type": "code",
      "execution_count": 33,
      "outputs": [
        {
          "output_type": "execute_result",
          "data": {
            "text/plain": [
              "5.4"
            ]
          },
          "metadata": {},
          "execution_count": 33
        }
      ],
      "source": [
        "suma(x,y)"
      ],
      "metadata": {
        "pycharm": {
          "name": "#%%\n"
        },
        "id": "z5tOceHjPqZG",
        "outputId": "d68456a2-f2a5-4363-c934-7f8111fc0196",
        "colab": {
          "base_uri": "https://localhost:8080/"
        }
      }
    },
    {
      "cell_type": "markdown",
      "source": [
        "## EJERCICIO"
      ],
      "metadata": {
        "id": "-nhftk-EU5JA"
      }
    },
    {
      "cell_type": "markdown",
      "source": [
        "Desarrolla una función **fibonacci()** que calcule el número de Fibonacci en una posición **n** dada.\n",
        "\n",
        "**NOTA:**La secuencia de Fibonacci comienza con 0 y 1, y cada número siguiente es la suma de los dos anteriores: 0, 1, 1, 2, 3, 5, 8, 13, 21, ...\n",
        "\n",
        "**Requisitos:**\n",
        "Implementa la función fibonacci(n: int) -> int que retorne el n-ésimo número de Fibonacci. Asegúrate de manejar los casos base para n=0 y n=1.\n",
        "\n",
        "* Utiliza la función fibonacci para generar una lista o array de los 20 primeros números de Fibonacci.\n"
      ],
      "metadata": {
        "id": "rIEBrALBVKEG"
      }
    },
    {
      "cell_type": "code",
      "source": [
        "# Implementación de la función de Fibonacci\n",
        "def fibonacci(n):\n",
        "  x=0\n",
        "  y=1\n",
        "  n=[]\n",
        "for i in range(n):\n",
        "  x=y\n",
        "  y=x+y\n",
        "  n=x+y"
      ],
      "metadata": {
        "id": "NiGmVJ8GVk2k"
      },
      "execution_count": null,
      "outputs": []
    },
    {
      "cell_type": "code",
      "source": [
        "import numpy as np\n",
        "# Cargar la variable primeros_20_fibonacci con un array de los 20 primeros números fibonacci\n",
        "fibonacci(20)"
      ],
      "metadata": {
        "id": "E4X10p1vV7Ir"
      },
      "execution_count": null,
      "outputs": []
    },
    {
      "cell_type": "code",
      "source": [
        "# Los 100 primeros números de Fibonacci \"hardcodeados\"\n",
        "veinte_primeros_fibonacci_hardcoded = [\n",
        "    0, 1, 1, 2, 3, 5, 8, 13, 21, 34,\n",
        "    55, 89, 144, 233, 377, 610, 987, 1597, 2584, 4181\n",
        "]\n",
        "\n",
        "# Usamos assert para comparar los dos arrays\n",
        "assert np.array_equal(primeros_20_fibonacci, veinte_primeros_fibonacci_hardcoded), \"Los arrays no son iguales\""
      ],
      "metadata": {
        "id": "sEys782MWfEN"
      },
      "execution_count": null,
      "outputs": []
    },
    {
      "cell_type": "markdown",
      "source": [],
      "metadata": {
        "id": "HeQhLQiXWJO1"
      }
    }
  ],
  "metadata": {
    "kernelspec": {
      "display_name": "Python 3",
      "language": "python",
      "name": "python3"
    },
    "language_info": {
      "codemirror_mode": {
        "name": "ipython",
        "version": 3
      },
      "file_extension": ".py",
      "mimetype": "text/x-python",
      "name": "python",
      "nbconvert_exporter": "python",
      "pygments_lexer": "ipython3",
      "version": "3.6.5"
    },
    "colab": {
      "provenance": [],
      "include_colab_link": true
    }
  },
  "nbformat": 4,
  "nbformat_minor": 0
}